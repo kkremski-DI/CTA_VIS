{
 "cells": [
  {
   "cell_type": "code",
   "execution_count": 1,
   "metadata": {
    "collapsed": false
   },
   "outputs": [],
   "source": [
    "%matplotlib inline\n",
    "import sys\n",
    "from urllib2 import Request, urlopen, URLError\n",
    "import requests\n",
    "import time\n",
    "from pyproj import Proj\n",
    "p1 = Proj(init='epsg:26915')\n",
    "import matplotlib as mpl\n",
    "import matplotlib.pyplot as plt\n",
    "import seaborn as sns  # makes plots pretty\n",
    "import pandas as pd\n",
    "import numpy as np\n",
    "from xml.etree import cElementTree as ET\n",
    "import re\n",
    "\n",
    "from sql import *\n",
    "import sqlite3\n",
    "\n",
    "from matplotlib import dates, pyplot\n",
    "import pytz\n",
    "import datetime as DT\n",
    "from datetime import datetime\n",
    "\n",
    "import pylab as pl\n",
    "from IPython import display\n",
    "#matplotlib.rcParams['savefig.dpi'] = 2 * matplotlib.rcParams['savefig.dpi']"
   ]
  },
  {
   "cell_type": "markdown",
   "metadata": {},
   "source": [
    "Automated script requests all vehicle locations for all bus routes every minute. This data gets dumped into a local SQL database for querying later, and for historical bus locations. "
   ]
  },
  {
   "cell_type": "code",
   "execution_count": 2,
   "metadata": {
    "collapsed": false
   },
   "outputs": [
    {
     "name": "stdout",
     "output_type": "stream",
     "text": [
      "NUMBER OF ENTRIES IS 607630\n",
      "             sd rt   id              x               y               t  hdg  \\\n",
      "0  201602052058  1   75  946223.743458  4648948.625806  20160205 14:57  358   \n",
      "1  201602052058  1   74  945083.173574  4650114.740172  20160205 14:57  182   \n",
      "2  201602052058  3  152  947936.149141  4634409.329609  20160205 14:57    1   \n",
      "3  201602052058  3  151  947670.481620  4637748.393779  20160205 14:58  359   \n",
      "4  201602052058  3  149  947533.667538  4639484.582599  20160205 14:58  356   \n",
      "\n",
      "    pid  dly  \n",
      "0  6353    0  \n",
      "1  6353    0  \n",
      "2  5342    0  \n",
      "3  5342    0  \n",
      "4  5342    0  \n"
     ]
    }
   ],
   "source": [
    "conAPI =  sqlite3.connect('API_Scrape_nopdist.db')\n",
    "query = '''SELECT * FROM API_DAT'''\n",
    "API_test = pd.read_sql_query(query, conAPI)\n",
    "print 'NUMBER OF ENTRIES IS ' +str(len(API_test))\n",
    "print API_test.head()\n"
   ]
  },
  {
   "cell_type": "markdown",
   "metadata": {},
   "source": [
    "An additional script runs every hour and checks if any vehicles in the full database have associated pattern IDs which haven't been seen before. If so, it runs additional queries, also in batches every minute, to get the pattern description and saves it locally."
   ]
  },
  {
   "cell_type": "code",
   "execution_count": 3,
   "metadata": {
    "collapsed": false
   },
   "outputs": [
    {
     "name": "stdout",
     "output_type": "stream",
     "text": [
      "NUMBER OF ENTRIES IS 772\n",
      "           rtdir typ  stpid                        stpnm     pdist\n",
      "24209  Eastbound   S  14514            Chicago & Kostner       0.0\n",
      "24210  Eastbound   S    527            Chicago & Kildare     513.0\n",
      "24211  Eastbound   S    528             Chicago & Keeler    1153.0\n",
      "24212  Eastbound   S    529             Chicago & Karlov    1859.0\n",
      "24213  Eastbound   S    530            Chicago & Pulaski    2521.0\n",
      "24214  Eastbound   S    531        Chicago & Springfield    3198.0\n",
      "24215  Eastbound   S  14515             Chicago & Hamlin    3984.0\n",
      "24216  Eastbound   S  15133           Chicago & Lawndale    4656.0\n",
      "24217  Eastbound   S  14516       Chicago & Central Park    5320.0\n",
      "24218  Eastbound   S    535          Chicago & St. Louis    5825.0\n",
      "24219  Eastbound   S  14517              Chicago & Homan    6634.0\n",
      "24220  Eastbound   S    537          Chicago & Spaulding    7134.0\n",
      "24221  Eastbound   S    538             Chicago & Kedzie    7793.0\n",
      "24222  Eastbound   S    540         Chicago & Sacramento    8871.0\n",
      "24223  Eastbound   S    543              Chicago & Grand    9850.0\n",
      "24224  Eastbound   S    544         Chicago & California   10452.0\n",
      "24225  Eastbound   S    545          Chicago & Washtenaw   11136.0\n",
      "24226  Eastbound   S  15043           Chicago & Rockwell   11905.0\n",
      "24227  Eastbound   S    547           Chicago & Campbell   12461.0\n",
      "24228  Eastbound   S    548            Chicago & Western   13128.0\n",
      "24229  Eastbound   S  15204             Chicago & Oakley   13926.0\n",
      "24230  Eastbound   S    550            Chicago & Leavitt   14447.0\n",
      "24231  Eastbound   W                                      14582.63\n",
      "24232  Eastbound   S    551              Chicago & Hoyne   15126.0\n",
      "24233  Eastbound   S    552              Chicago & Damen   15781.0\n",
      "24234  Eastbound   S    553            Chicago & Wolcott   16468.0\n",
      "24235  Eastbound   S  15205               Chicago & Wood   17234.0\n",
      "24236  Eastbound   S  15206            Chicago & Paulina   17925.0\n",
      "24237  Eastbound   S    556            Chicago & Ashland   18400.0\n",
      "24238  Eastbound   S    557             Chicago & Bishop   19283.0\n",
      "...          ...  ..    ...                          ...       ...\n",
      "24254  Eastbound   S    577   Chicago & State (Red Line)   29093.0\n",
      "24255  Eastbound   S    578             Chicago & Wabash   29460.0\n",
      "24256  Eastbound   S    579               Chicago & Rush   29812.0\n",
      "24257  Eastbound   S    580           Chicago & Michigan   30122.0\n",
      "24258  Eastbound   S  15282  Chicago & Mies Van Der Rohe   30731.0\n",
      "24259  Eastbound   S    582          Chicago & Fairbanks   31229.0\n",
      "24260  Eastbound   W                                      31254.88\n",
      "24261  Eastbound   S    584            Fairbanks & Huron   31844.0\n",
      "24262  Eastbound   S    585             Fairbanks & Erie   32148.0\n",
      "24263  Eastbound   S    587             Fairbanks & Ohio   32906.0\n",
      "24264  Eastbound   W                                      33033.15\n",
      "24265  Eastbound   W                                      33055.95\n",
      "24266  Eastbound   S  15393          Illinois & Columbus   33639.0\n",
      "24267  Eastbound   S    754           Illinois & McClurg   34011.0\n",
      "24268  Eastbound   S    755          Illinois & Peshtigo   34687.0\n",
      "24269  Eastbound   S    756        Illinois & Lake Shore   35410.0\n",
      "24270  Eastbound   W                                      35545.64\n",
      "24271  Eastbound   W                                      35653.22\n",
      "24272  Eastbound   W                                      35675.44\n",
      "24273  Eastbound   W                                      35686.78\n",
      "24274  Eastbound   W                                      35699.92\n",
      "24275  Eastbound   W                                      35721.98\n",
      "24276  Eastbound   W                                      35741.55\n",
      "24277  Eastbound   W                                      35774.93\n",
      "24278  Eastbound   W                                      35786.96\n",
      "24279  Eastbound   W                                      35801.18\n",
      "24280  Eastbound   W                                      35819.81\n",
      "24281  Eastbound   W                                      35832.15\n",
      "24282  Eastbound   W                                      35845.49\n",
      "24283  Eastbound   S  14161           Navy Pier Terminal   36875.0\n",
      "\n",
      "[75 rows x 5 columns]\n"
     ]
    }
   ],
   "source": [
    "conStop =  sqlite3.connect('Pattern_Stops.db')\n",
    "pid = API_test[API_test['rt'] == '66']['pid'].iloc[0]\n",
    "query = '''SELECT * FROM PAT_STOPS'''\n",
    "Stops_test = pd.read_sql_query(query, conStop)\n",
    "print 'NUMBER OF ENTRIES IS ' +str(len(Stops_test['pid'].unique()))\n",
    "print Stops_test[Stops_test['pid']==pid][['rtdir', 'typ', 'stpid', 'stpnm', 'pdist']]"
   ]
  },
  {
   "cell_type": "markdown",
   "metadata": {},
   "source": [
    "In addition to saving all of the historial data, a single database also stores only the most recently seen vehicles, so if one wanted to show only active buses, a SQL query doesn't have to be made on the full database."
   ]
  },
  {
   "cell_type": "code",
   "execution_count": 4,
   "metadata": {
    "collapsed": false
   },
   "outputs": [
    {
     "name": "stdout",
     "output_type": "stream",
     "text": [
      "NUMBER OF BUSES IS 1091\n",
      "             sd rt       id              x               y               t  \\\n",
      "0  201602110013  1       69  945874.433160  4650230.297911  20160210 18:25   \n",
      "1  201602110000  1       68  946224.098357  4648811.333622  20160210 18:25   \n",
      "2  201602110016  1       89  946349.363477  4647404.055875  20160210 18:22   \n",
      "3  201602110024  2       57  946795.930212  4651811.835245  20160210 18:25   \n",
      "4  201602102348  2  1012938  945778.150126  4651189.414653  20160210 18:25   \n",
      "\n",
      "             lt       spd  hdg   pid  dly  pdist  \n",
      "0  201602110025      2.12   89  6351    0   4619  \n",
      "1  201602110025  5.233333  175  6351    0  10178  \n",
      "2  201602110025       NaN  358  6353    0   8015  \n",
      "3  201602110025  10.96667  268  5528    0   1541  \n",
      "4  201602110025       NaN  268  5528    0   7345  \n"
     ]
    }
   ],
   "source": [
    "conAPI =  sqlite3.connect('API_curr.db')\n",
    "\n",
    "query = '''SELECT rt, COUNT() as count FROM (SELECT rt, id as count FROM API_DAT GROUP BY rt, id) GROUP BY rt'''\n",
    "query = '''SELECT * FROM API_CURR_DAT'''\n",
    "API_test = pd.read_sql_query(query, conAPI)\n",
    "print 'NUMBER OF BUSES IS ' + str(len(API_test))\n",
    "print API_test.head()"
   ]
  },
  {
   "cell_type": "code",
   "execution_count": null,
   "metadata": {
    "collapsed": false
   },
   "outputs": [
    {
     "data": {
      "image/png": "[encoded data removed]",
      "text/plain": [
       "<matplotlib.figure.Figure at 0x7f8c47f3add0>"
      ]
     },
     "metadata": {},
     "output_type": "display_data"
    }
   ],
   "source": [
    "f = plt.figure(figsize = (6, 10))\n",
    "\n",
    "\n",
    "plt.axis('equal')\n",
    "axes = plt.gca()\n",
    "axes.set_xlim([940000,948000])\n",
    "axes.set_ylim([4650000,4658000])\n",
    "j = 0\n",
    "c = 'b'\n",
    "while True:\n",
    "    conAPI =  sqlite3.connect('API_curr.db')\n",
    "\n",
    "    query = '''SELECT * FROM API_CURR_DAT'''\n",
    "    API_test1 = pd.read_sql_query(query, conAPI)\n",
    "    if j==0:\n",
    "        j = j+1\n",
    "        API_test = API_test1\n",
    "    else:\n",
    "        time.sleep(2.5)\n",
    "        API_test2 = pd.read_sql_query(query, conAPI)\n",
    "    \n",
    "        if len(API_test1)> len(API_test2):\n",
    "            API_test = API_test1\n",
    "        else:\n",
    "            API_test = API_test2\n",
    "    plt.gca().cla() \n",
    "    axes.set_xlim([940000,948000])\n",
    "    axes.set_ylim([4650000,4658000])\n",
    "\n",
    "    plt.plot(API_test['x'], API_test['y'], c+'s')\n",
    "    if c == 'b':\n",
    "        c = 'r'\n",
    "    else:\n",
    "        c = 'b'\n",
    "    \n",
    "    display.clear_output(wait=True)\n",
    "    display.display(plt.gcf()) \n",
    "\n"
   ]
  },
  {
   "cell_type": "code",
   "execution_count": null,
   "metadata": {
    "collapsed": true
   },
   "outputs": [],
   "source": []
  }
 ],
 "metadata": {
  "kernelspec": {
   "display_name": "Python 2",
   "language": "python",
   "name": "python2"
  },
  "language_info": {
   "codemirror_mode": {
    "name": "ipython",
    "version": 2
   },
   "file_extension": ".py",
   "mimetype": "text/x-python",
   "name": "python",
   "nbconvert_exporter": "python",
   "pygments_lexer": "ipython2",
   "version": "2.7.10"
  }
 },
 "nbformat": 4,
 "nbformat_minor": 0
}
